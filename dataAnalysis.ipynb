{
 "cells": [
  {
   "cell_type": "markdown",
   "metadata": {},
   "source": [
    "## Setup\n",
    "Scarichiamo le librerie necessarie alla pulizia, all'analisi e alla visualizzazione dei dati."
   ]
  },
  {
   "cell_type": "code",
   "execution_count": 3,
   "metadata": {},
   "outputs": [
    {
     "name": "stdout",
     "output_type": "stream",
     "text": [
      "Requirement already satisfied: pandas in /Library/Frameworks/Python.framework/Versions/3.11/lib/python3.11/site-packages (2.0.2)\n",
      "Requirement already satisfied: python-dateutil>=2.8.2 in /Users/doppia/Library/Python/3.11/lib/python/site-packages (from pandas) (2.8.2)\n",
      "Requirement already satisfied: pytz>=2020.1 in /Library/Frameworks/Python.framework/Versions/3.11/lib/python3.11/site-packages (from pandas) (2023.3)\n",
      "Requirement already satisfied: tzdata>=2022.1 in /Library/Frameworks/Python.framework/Versions/3.11/lib/python3.11/site-packages (from pandas) (2023.3)\n",
      "Requirement already satisfied: numpy>=1.21.0 in /Library/Frameworks/Python.framework/Versions/3.11/lib/python3.11/site-packages (from pandas) (1.25.0)\n",
      "Requirement already satisfied: six>=1.5 in /Users/doppia/Library/Python/3.11/lib/python/site-packages (from python-dateutil>=2.8.2->pandas) (1.16.0)\n",
      "\n",
      "\u001b[1m[\u001b[0m\u001b[34;49mnotice\u001b[0m\u001b[1;39;49m]\u001b[0m\u001b[39;49m A new release of pip is available: \u001b[0m\u001b[31;49m23.1.2\u001b[0m\u001b[39;49m -> \u001b[0m\u001b[32;49m23.2.1\u001b[0m\n",
      "\u001b[1m[\u001b[0m\u001b[34;49mnotice\u001b[0m\u001b[1;39;49m]\u001b[0m\u001b[39;49m To update, run: \u001b[0m\u001b[32;49mpip3 install --upgrade pip\u001b[0m\n",
      "Note: you may need to restart the kernel to use updated packages.\n"
     ]
    }
   ],
   "source": [
    "pip install pandas"
   ]
  },
  {
   "cell_type": "code",
   "execution_count": 4,
   "metadata": {},
   "outputs": [
    {
     "name": "stdout",
     "output_type": "stream",
     "text": [
      "Requirement already satisfied: matplotlib in /Library/Frameworks/Python.framework/Versions/3.11/lib/python3.11/site-packages (3.7.1)\n",
      "Requirement already satisfied: contourpy>=1.0.1 in /Library/Frameworks/Python.framework/Versions/3.11/lib/python3.11/site-packages (from matplotlib) (1.1.0)\n",
      "Requirement already satisfied: cycler>=0.10 in /Library/Frameworks/Python.framework/Versions/3.11/lib/python3.11/site-packages (from matplotlib) (0.11.0)\n",
      "Requirement already satisfied: fonttools>=4.22.0 in /Library/Frameworks/Python.framework/Versions/3.11/lib/python3.11/site-packages (from matplotlib) (4.40.0)\n",
      "Requirement already satisfied: kiwisolver>=1.0.1 in /Library/Frameworks/Python.framework/Versions/3.11/lib/python3.11/site-packages (from matplotlib) (1.4.4)\n",
      "Requirement already satisfied: numpy>=1.20 in /Library/Frameworks/Python.framework/Versions/3.11/lib/python3.11/site-packages (from matplotlib) (1.25.0)\n",
      "Requirement already satisfied: packaging>=20.0 in /Users/doppia/Library/Python/3.11/lib/python/site-packages (from matplotlib) (23.0)\n",
      "Requirement already satisfied: pillow>=6.2.0 in /Library/Frameworks/Python.framework/Versions/3.11/lib/python3.11/site-packages (from matplotlib) (9.5.0)\n",
      "Requirement already satisfied: pyparsing>=2.3.1 in /Library/Frameworks/Python.framework/Versions/3.11/lib/python3.11/site-packages (from matplotlib) (3.1.0)\n",
      "Requirement already satisfied: python-dateutil>=2.7 in /Users/doppia/Library/Python/3.11/lib/python/site-packages (from matplotlib) (2.8.2)\n",
      "Requirement already satisfied: six>=1.5 in /Users/doppia/Library/Python/3.11/lib/python/site-packages (from python-dateutil>=2.7->matplotlib) (1.16.0)\n",
      "\n",
      "\u001b[1m[\u001b[0m\u001b[34;49mnotice\u001b[0m\u001b[1;39;49m]\u001b[0m\u001b[39;49m A new release of pip is available: \u001b[0m\u001b[31;49m23.1.2\u001b[0m\u001b[39;49m -> \u001b[0m\u001b[32;49m23.2.1\u001b[0m\n",
      "\u001b[1m[\u001b[0m\u001b[34;49mnotice\u001b[0m\u001b[1;39;49m]\u001b[0m\u001b[39;49m To update, run: \u001b[0m\u001b[32;49mpip3 install --upgrade pip\u001b[0m\n",
      "Note: you may need to restart the kernel to use updated packages.\n"
     ]
    }
   ],
   "source": [
    "pip install matplotlib"
   ]
  },
  {
   "cell_type": "code",
   "execution_count": 5,
   "metadata": {},
   "outputs": [
    {
     "name": "stdout",
     "output_type": "stream",
     "text": [
      "Requirement already satisfied: folium in /Library/Frameworks/Python.framework/Versions/3.11/lib/python3.11/site-packages (0.14.0)\n",
      "Requirement already satisfied: branca>=0.6.0 in /Library/Frameworks/Python.framework/Versions/3.11/lib/python3.11/site-packages (from folium) (0.6.0)\n",
      "Requirement already satisfied: jinja2>=2.9 in /Users/doppia/Library/Python/3.11/lib/python/site-packages (from folium) (3.1.2)\n",
      "Requirement already satisfied: numpy in /Library/Frameworks/Python.framework/Versions/3.11/lib/python3.11/site-packages (from folium) (1.25.0)\n",
      "Requirement already satisfied: requests in /Library/Frameworks/Python.framework/Versions/3.11/lib/python3.11/site-packages (from folium) (2.31.0)\n",
      "Requirement already satisfied: MarkupSafe>=2.0 in /Users/doppia/Library/Python/3.11/lib/python/site-packages (from jinja2>=2.9->folium) (2.1.1)\n",
      "Requirement already satisfied: charset-normalizer<4,>=2 in /Library/Frameworks/Python.framework/Versions/3.11/lib/python3.11/site-packages (from requests->folium) (3.1.0)\n",
      "Requirement already satisfied: idna<4,>=2.5 in /Users/doppia/Library/Python/3.11/lib/python/site-packages (from requests->folium) (3.4)\n",
      "Requirement already satisfied: urllib3<3,>=1.21.1 in /Library/Frameworks/Python.framework/Versions/3.11/lib/python3.11/site-packages (from requests->folium) (2.0.3)\n",
      "Requirement already satisfied: certifi>=2017.4.17 in /Library/Frameworks/Python.framework/Versions/3.11/lib/python3.11/site-packages (from requests->folium) (2023.5.7)\n",
      "\n",
      "\u001b[1m[\u001b[0m\u001b[34;49mnotice\u001b[0m\u001b[1;39;49m]\u001b[0m\u001b[39;49m A new release of pip is available: \u001b[0m\u001b[31;49m23.1.2\u001b[0m\u001b[39;49m -> \u001b[0m\u001b[32;49m23.2.1\u001b[0m\n",
      "\u001b[1m[\u001b[0m\u001b[34;49mnotice\u001b[0m\u001b[1;39;49m]\u001b[0m\u001b[39;49m To update, run: \u001b[0m\u001b[32;49mpip3 install --upgrade pip\u001b[0m\n",
      "Note: you may need to restart the kernel to use updated packages.\n"
     ]
    }
   ],
   "source": [
    "pip install folium"
   ]
  },
  {
   "cell_type": "markdown",
   "metadata": {},
   "source": [
    "### Info dati\n",
    "I dati sono stati scaricati da Google Big Query il giorno 05/09/2023 alle ore 20:48\n",
    "\n",
    "! NOTA BENE ! I dati vengono aggiornati quotidianamente."
   ]
  },
  {
   "cell_type": "markdown",
   "metadata": {},
   "source": [
    "## Pulizia dei dati\n",
    "Raggruppiamo tutti i dati in un unico Dataframe chiamato \"combined_data\"."
   ]
  },
  {
   "cell_type": "code",
   "execution_count": 6,
   "metadata": {},
   "outputs": [
    {
     "name": "stdout",
     "output_type": "stream",
     "text": [
      "              id            name   latitude   longitude  user_id  \\\n",
      "0            1.0      Memphis TN  35.117400  -89.971100      NaN   \n",
      "1            2.0      Chicago IL  41.836900  -87.684700      NaN   \n",
      "2            3.0      Houston TX  29.760400  -95.369800      NaN   \n",
      "3            4.0  Los Angeles CA  34.050000 -118.250000      NaN   \n",
      "4            5.0  New Orleans LA  29.950000  -90.066700      NaN   \n",
      "...          ...             ...        ...         ...      ...   \n",
      "3351165  42306.0             NaN  33.220465  126.237860      NaN   \n",
      "3351166  62784.0             NaN  33.220465  126.237860      NaN   \n",
      "3351167  69078.0             NaN  33.220465  126.237860      NaN   \n",
      "3351168  23227.0             NaN  33.305744  126.675429      NaN   \n",
      "3351169  48801.0             NaN  33.305744  126.675429      NaN   \n",
      "\n",
      "         sequence_number session_id               created_at ip_address  \\\n",
      "0                    NaN        NaN                      NaN        NaN   \n",
      "1                    NaN        NaN                      NaN        NaN   \n",
      "2                    NaN        NaN                      NaN        NaN   \n",
      "3                    NaN        NaN                      NaN        NaN   \n",
      "4                    NaN        NaN                      NaN        NaN   \n",
      "...                  ...        ...                      ...        ...   \n",
      "3351165              NaN        NaN  2023-06-22 09:33:00 UTC        NaN   \n",
      "3351166              NaN        NaN  2019-05-22 17:44:00 UTC        NaN   \n",
      "3351167              NaN        NaN  2022-04-20 13:57:00 UTC        NaN   \n",
      "3351168              NaN        NaN  2019-08-02 18:30:00 UTC        NaN   \n",
      "3351169              NaN        NaN  2022-04-28 12:42:00 UTC        NaN   \n",
      "\n",
      "                  city  ... retail_price department  sku  \\\n",
      "0                  NaN  ...          NaN        NaN  NaN   \n",
      "1                  NaN  ...          NaN        NaN  NaN   \n",
      "2                  NaN  ...          NaN        NaN  NaN   \n",
      "3                  NaN  ...          NaN        NaN  NaN   \n",
      "4                  NaN  ...          NaN        NaN  NaN   \n",
      "...                ...  ...          ...        ...  ...   \n",
      "3351165  Seogwipo City  ...          NaN        NaN  NaN   \n",
      "3351166  Seogwipo City  ...          NaN        NaN  NaN   \n",
      "3351167  Seogwipo City  ...          NaN        NaN  NaN   \n",
      "3351168  Seogwipo City  ...          NaN        NaN  NaN   \n",
      "3351169  Seogwipo City  ...          NaN        NaN  NaN   \n",
      "\n",
      "        distribution_center_id first_name last_name  \\\n",
      "0                          NaN        NaN       NaN   \n",
      "1                          NaN        NaN       NaN   \n",
      "2                          NaN        NaN       NaN   \n",
      "3                          NaN        NaN       NaN   \n",
      "4                          NaN        NaN       NaN   \n",
      "...                        ...        ...       ...   \n",
      "3351165                    NaN    Chelsea     Singh   \n",
      "3351166                    NaN    Vanessa    Garcia   \n",
      "3351167                    NaN    Jackson   Johnson   \n",
      "3351168                    NaN      Scott     Price   \n",
      "3351169                    NaN     Andrew  Gonzalez   \n",
      "\n",
      "                              email   age              street_address  \\\n",
      "0                               NaN   NaN                         NaN   \n",
      "1                               NaN   NaN                         NaN   \n",
      "2                               NaN   NaN                         NaN   \n",
      "3                               NaN   NaN                         NaN   \n",
      "4                               NaN   NaN                         NaN   \n",
      "...                             ...   ...                         ...   \n",
      "3351165    chelseasingh@example.net  59.0  7404 Hodges River Apt. 025   \n",
      "3351166   vanessagarcia@example.org  61.0               4310 Lisa Via   \n",
      "3351167  jacksonjohnson@example.com  32.0       2056 Terrell Crescent   \n",
      "3351168      scottprice@example.net  50.0   652 Michele Keys Apt. 883   \n",
      "3351169  andrewgonzalez@example.net  43.0             1046 Troy Plaza   \n",
      "\n",
      "             country  \n",
      "0                NaN  \n",
      "1                NaN  \n",
      "2                NaN  \n",
      "3                NaN  \n",
      "4                NaN  \n",
      "...              ...  \n",
      "3351165  South Korea  \n",
      "3351166  South Korea  \n",
      "3351167  South Korea  \n",
      "3351168  South Korea  \n",
      "3351169  South Korea  \n",
      "\n",
      "[3351170 rows x 47 columns]\n"
     ]
    }
   ],
   "source": [
    "import pandas as pd\n",
    "\n",
    "# Lista dei nomi dei file CSV da unire\n",
    "file_names = [\"distribution_centers.csv\",\"events.csv\",\"inventory_items.csv\",\"order_items.csv\",\"orders.csv\",\"products.csv\",\"users.csv\"]\n",
    "\n",
    "# Crea una lista di DataFrame leggendo ciascun file CSV\n",
    "dataframes = [pd.read_csv(file) for file in file_names]\n",
    "\n",
    "# Unisci i DataFrame in un unico DataFrame\n",
    "combined_data = pd.concat(dataframes, ignore_index=True)\n",
    "\n",
    "# Ora combined_data contiene tutti i dati dai file CSV\n",
    "print(combined_data)"
   ]
  },
  {
   "cell_type": "code",
   "execution_count": 7,
   "metadata": {},
   "outputs": [
    {
     "name": "stdout",
     "output_type": "stream",
     "text": [
      "<class 'pandas.core.frame.DataFrame'>\n",
      "RangeIndex: 3351170 entries, 0 to 3351169\n",
      "Data columns (total 47 columns):\n",
      " #   Column                          Dtype  \n",
      "---  ------                          -----  \n",
      " 0   id                              float64\n",
      " 1   name                            object \n",
      " 2   latitude                        float64\n",
      " 3   longitude                       float64\n",
      " 4   user_id                         float64\n",
      " 5   sequence_number                 float64\n",
      " 6   session_id                      object \n",
      " 7   created_at                      object \n",
      " 8   ip_address                      object \n",
      " 9   city                            object \n",
      " 10  state                           object \n",
      " 11  postal_code                     object \n",
      " 12  browser                         object \n",
      " 13  traffic_source                  object \n",
      " 14  uri                             object \n",
      " 15  event_type                      object \n",
      " 16  product_id                      float64\n",
      " 17  sold_at                         object \n",
      " 18  cost                            float64\n",
      " 19  product_category                object \n",
      " 20  product_name                    object \n",
      " 21  product_brand                   object \n",
      " 22  product_retail_price            float64\n",
      " 23  product_department              object \n",
      " 24  product_sku                     object \n",
      " 25  product_distribution_center_id  float64\n",
      " 26  order_id                        float64\n",
      " 27  inventory_item_id               float64\n",
      " 28  status                          object \n",
      " 29  shipped_at                      object \n",
      " 30  delivered_at                    object \n",
      " 31  returned_at                     object \n",
      " 32  sale_price                      float64\n",
      " 33  gender                          object \n",
      " 34  num_of_item                     float64\n",
      " 35  category                        object \n",
      " 36  brand                           object \n",
      " 37  retail_price                    float64\n",
      " 38  department                      object \n",
      " 39  sku                             object \n",
      " 40  distribution_center_id          float64\n",
      " 41  first_name                      object \n",
      " 42  last_name                       object \n",
      " 43  email                           object \n",
      " 44  age                             float64\n",
      " 45  street_address                  object \n",
      " 46  country                         object \n",
      "dtypes: float64(16), object(31)\n",
      "memory usage: 1.2+ GB\n"
     ]
    }
   ],
   "source": [
    "combined_data.info()"
   ]
  },
  {
   "cell_type": "markdown",
   "metadata": {},
   "source": [
    "### Verifica\n",
    "Controllo valori NaN, duplicati o mancanti."
   ]
  },
  {
   "cell_type": "code",
   "execution_count": 8,
   "metadata": {},
   "outputs": [
    {
     "name": "stdout",
     "output_type": "stream",
     "text": [
      "Il DataFrame contiene valori NaN.\n"
     ]
    },
    {
     "data": {
      "text/plain": [
       "id                                 125303\n",
       "name                              3322042\n",
       "latitude                          3251160\n",
       "longitude                         3251160\n",
       "user_id                           1744959\n",
       "sequence_number                    926037\n",
       "session_id                         926037\n",
       "created_at                          29130\n",
       "ip_address                         926037\n",
       "city                               851364\n",
       "state                              826037\n",
       "postal_code                        826037\n",
       "browser                            926037\n",
       "traffic_source                     826037\n",
       "uri                                926037\n",
       "event_type                         926037\n",
       "product_id                        2679566\n",
       "sold_at                           3169675\n",
       "cost                              2831941\n",
       "product_category                  2861061\n",
       "product_name                      2861083\n",
       "product_brand                     2861500\n",
       "product_retail_price              2861061\n",
       "product_department                2861061\n",
       "product_sku                       2861061\n",
       "product_distribution_center_id    2861061\n",
       "order_id                          3044372\n",
       "inventory_item_id                 3169675\n",
       "status                            3044372\n",
       "shipped_at                        3151703\n",
       "delivered_at                      3243605\n",
       "returned_at                       3320345\n",
       "sale_price                        3169675\n",
       "gender                            3125867\n",
       "num_of_item                       3225867\n",
       "category                          3322050\n",
       "brand                             3322074\n",
       "retail_price                      3322050\n",
       "department                        3322050\n",
       "sku                               3322050\n",
       "distribution_center_id            3322050\n",
       "first_name                        3251170\n",
       "last_name                         3251170\n",
       "email                             3251170\n",
       "age                               3251170\n",
       "street_address                    3251170\n",
       "country                           3251170\n",
       "dtype: int64"
      ]
     },
     "execution_count": 8,
     "metadata": {},
     "output_type": "execute_result"
    }
   ],
   "source": [
    "# Verifica la presenza di valori NaN nel DataFrame\n",
    "valori_nan = combined_data.isnull().values.any()\n",
    "\n",
    "if valori_nan:\n",
    "    print(\"Il DataFrame contiene valori NaN.\")\n",
    "else:\n",
    "    print(\"Il DataFrame non contiene valori NaN.\")\n",
    "combined_data.isnull().sum()"
   ]
  },
  {
   "cell_type": "code",
   "execution_count": 9,
   "metadata": {},
   "outputs": [],
   "source": [
    "# Sostituisci i valori NaN con \"0\"\n",
    "valori_nan = combined_data.isnull().values.any()\n",
    "\n",
    "combined_data.fillna(0, inplace=True)"
   ]
  },
  {
   "cell_type": "code",
   "execution_count": 10,
   "metadata": {},
   "outputs": [
    {
     "name": "stdout",
     "output_type": "stream",
     "text": [
      "              id            name   latitude   longitude  user_id  \\\n",
      "0            1.0      Memphis TN  35.117400  -89.971100      0.0   \n",
      "1            2.0      Chicago IL  41.836900  -87.684700      0.0   \n",
      "2            3.0      Houston TX  29.760400  -95.369800      0.0   \n",
      "3            4.0  Los Angeles CA  34.050000 -118.250000      0.0   \n",
      "4            5.0  New Orleans LA  29.950000  -90.066700      0.0   \n",
      "...          ...             ...        ...         ...      ...   \n",
      "3351165  42306.0               0  33.220465  126.237860      0.0   \n",
      "3351166  62784.0               0  33.220465  126.237860      0.0   \n",
      "3351167  69078.0               0  33.220465  126.237860      0.0   \n",
      "3351168  23227.0               0  33.305744  126.675429      0.0   \n",
      "3351169  48801.0               0  33.305744  126.675429      0.0   \n",
      "\n",
      "         sequence_number session_id               created_at ip_address  \\\n",
      "0                    0.0          0                        0          0   \n",
      "1                    0.0          0                        0          0   \n",
      "2                    0.0          0                        0          0   \n",
      "3                    0.0          0                        0          0   \n",
      "4                    0.0          0                        0          0   \n",
      "...                  ...        ...                      ...        ...   \n",
      "3351165              0.0          0  2023-06-22 09:33:00 UTC          0   \n",
      "3351166              0.0          0  2019-05-22 17:44:00 UTC          0   \n",
      "3351167              0.0          0  2022-04-20 13:57:00 UTC          0   \n",
      "3351168              0.0          0  2019-08-02 18:30:00 UTC          0   \n",
      "3351169              0.0          0  2022-04-28 12:42:00 UTC          0   \n",
      "\n",
      "                  city  ... retail_price department sku  \\\n",
      "0                    0  ...          0.0          0   0   \n",
      "1                    0  ...          0.0          0   0   \n",
      "2                    0  ...          0.0          0   0   \n",
      "3                    0  ...          0.0          0   0   \n",
      "4                    0  ...          0.0          0   0   \n",
      "...                ...  ...          ...        ...  ..   \n",
      "3351165  Seogwipo City  ...          0.0          0   0   \n",
      "3351166  Seogwipo City  ...          0.0          0   0   \n",
      "3351167  Seogwipo City  ...          0.0          0   0   \n",
      "3351168  Seogwipo City  ...          0.0          0   0   \n",
      "3351169  Seogwipo City  ...          0.0          0   0   \n",
      "\n",
      "        distribution_center_id first_name last_name  \\\n",
      "0                          0.0          0         0   \n",
      "1                          0.0          0         0   \n",
      "2                          0.0          0         0   \n",
      "3                          0.0          0         0   \n",
      "4                          0.0          0         0   \n",
      "...                        ...        ...       ...   \n",
      "3351165                    0.0    Chelsea     Singh   \n",
      "3351166                    0.0    Vanessa    Garcia   \n",
      "3351167                    0.0    Jackson   Johnson   \n",
      "3351168                    0.0      Scott     Price   \n",
      "3351169                    0.0     Andrew  Gonzalez   \n",
      "\n",
      "                              email   age              street_address  \\\n",
      "0                                 0   0.0                           0   \n",
      "1                                 0   0.0                           0   \n",
      "2                                 0   0.0                           0   \n",
      "3                                 0   0.0                           0   \n",
      "4                                 0   0.0                           0   \n",
      "...                             ...   ...                         ...   \n",
      "3351165    chelseasingh@example.net  59.0  7404 Hodges River Apt. 025   \n",
      "3351166   vanessagarcia@example.org  61.0               4310 Lisa Via   \n",
      "3351167  jacksonjohnson@example.com  32.0       2056 Terrell Crescent   \n",
      "3351168      scottprice@example.net  50.0   652 Michele Keys Apt. 883   \n",
      "3351169  andrewgonzalez@example.net  43.0             1046 Troy Plaza   \n",
      "\n",
      "             country  \n",
      "0                  0  \n",
      "1                  0  \n",
      "2                  0  \n",
      "3                  0  \n",
      "4                  0  \n",
      "...              ...  \n",
      "3351165  South Korea  \n",
      "3351166  South Korea  \n",
      "3351167  South Korea  \n",
      "3351168  South Korea  \n",
      "3351169  South Korea  \n",
      "\n",
      "[3351170 rows x 47 columns]\n"
     ]
    }
   ],
   "source": [
    "# Rimuovi righe con dati mancanti\n",
    "combined_datatest = combined_data.dropna()\n",
    "\n",
    "# Rimuovi duplicati\n",
    "combined_datatest = combined_data.drop_duplicates()\n",
    "\n",
    "# Verifica se ci sono cambiamenti\n",
    "print(combined_datatest)\n"
   ]
  },
  {
   "cell_type": "markdown",
   "metadata": {},
   "source": [
    "### Risultati della pulizia su combined_data\n",
    "\n",
    "Il dataframe \"combined_data\" non presenta righe con dati mancanti o duplicati.\n",
    "\n",
    "Il df \"combined_data\" corrisponde al df pulito \"combined_datatest\" con [3351170 rows x 47 columns]\n",
    "\n",
    "Il df \"combined_data\" è stato modificato sostituendo i valori NaN con \"0\""
   ]
  },
  {
   "cell_type": "code",
   "execution_count": 11,
   "metadata": {},
   "outputs": [
    {
     "name": "stdout",
     "output_type": "stream",
     "text": [
      "              id            name   latitude   longitude  user_id  \\\n",
      "0            1.0      Memphis TN  35.117400  -89.971100      0.0   \n",
      "1            2.0      Chicago IL  41.836900  -87.684700      0.0   \n",
      "2            3.0      Houston TX  29.760400  -95.369800      0.0   \n",
      "3            4.0  Los Angeles CA  34.050000 -118.250000      0.0   \n",
      "4            5.0  New Orleans LA  29.950000  -90.066700      0.0   \n",
      "...          ...             ...        ...         ...      ...   \n",
      "3351165  42306.0               0  33.220465  126.237860      0.0   \n",
      "3351166  62784.0               0  33.220465  126.237860      0.0   \n",
      "3351167  69078.0               0  33.220465  126.237860      0.0   \n",
      "3351168  23227.0               0  33.305744  126.675429      0.0   \n",
      "3351169  48801.0               0  33.305744  126.675429      0.0   \n",
      "\n",
      "         sequence_number session_id               created_at ip_address  \\\n",
      "0                    0.0          0                        0          0   \n",
      "1                    0.0          0                        0          0   \n",
      "2                    0.0          0                        0          0   \n",
      "3                    0.0          0                        0          0   \n",
      "4                    0.0          0                        0          0   \n",
      "...                  ...        ...                      ...        ...   \n",
      "3351165              0.0          0  2023-06-22 09:33:00 UTC          0   \n",
      "3351166              0.0          0  2019-05-22 17:44:00 UTC          0   \n",
      "3351167              0.0          0  2022-04-20 13:57:00 UTC          0   \n",
      "3351168              0.0          0  2019-08-02 18:30:00 UTC          0   \n",
      "3351169              0.0          0  2022-04-28 12:42:00 UTC          0   \n",
      "\n",
      "                  city  ... retail_price department sku  \\\n",
      "0                    0  ...          0.0          0   0   \n",
      "1                    0  ...          0.0          0   0   \n",
      "2                    0  ...          0.0          0   0   \n",
      "3                    0  ...          0.0          0   0   \n",
      "4                    0  ...          0.0          0   0   \n",
      "...                ...  ...          ...        ...  ..   \n",
      "3351165  Seogwipo City  ...          0.0          0   0   \n",
      "3351166  Seogwipo City  ...          0.0          0   0   \n",
      "3351167  Seogwipo City  ...          0.0          0   0   \n",
      "3351168  Seogwipo City  ...          0.0          0   0   \n",
      "3351169  Seogwipo City  ...          0.0          0   0   \n",
      "\n",
      "        distribution_center_id first_name last_name  \\\n",
      "0                          0.0          0         0   \n",
      "1                          0.0          0         0   \n",
      "2                          0.0          0         0   \n",
      "3                          0.0          0         0   \n",
      "4                          0.0          0         0   \n",
      "...                        ...        ...       ...   \n",
      "3351165                    0.0    Chelsea     Singh   \n",
      "3351166                    0.0    Vanessa    Garcia   \n",
      "3351167                    0.0    Jackson   Johnson   \n",
      "3351168                    0.0      Scott     Price   \n",
      "3351169                    0.0     Andrew  Gonzalez   \n",
      "\n",
      "                              email   age              street_address  \\\n",
      "0                                 0   0.0                           0   \n",
      "1                                 0   0.0                           0   \n",
      "2                                 0   0.0                           0   \n",
      "3                                 0   0.0                           0   \n",
      "4                                 0   0.0                           0   \n",
      "...                             ...   ...                         ...   \n",
      "3351165    chelseasingh@example.net  59.0  7404 Hodges River Apt. 025   \n",
      "3351166   vanessagarcia@example.org  61.0               4310 Lisa Via   \n",
      "3351167  jacksonjohnson@example.com  32.0       2056 Terrell Crescent   \n",
      "3351168      scottprice@example.net  50.0   652 Michele Keys Apt. 883   \n",
      "3351169  andrewgonzalez@example.net  43.0             1046 Troy Plaza   \n",
      "\n",
      "             country  \n",
      "0                  0  \n",
      "1                  0  \n",
      "2                  0  \n",
      "3                  0  \n",
      "4                  0  \n",
      "...              ...  \n",
      "3351165  South Korea  \n",
      "3351166  South Korea  \n",
      "3351167  South Korea  \n",
      "3351168  South Korea  \n",
      "3351169  South Korea  \n",
      "\n",
      "[3351170 rows x 47 columns]\n"
     ]
    }
   ],
   "source": [
    "print(combined_data)"
   ]
  },
  {
   "cell_type": "markdown",
   "metadata": {},
   "source": [
    "### Pulizia di events.csv"
   ]
  },
  {
   "cell_type": "code",
   "execution_count": 12,
   "metadata": {},
   "outputs": [
    {
     "name": "stdout",
     "output_type": "stream",
     "text": [
      "Il DataFrame contiene valori NaN.\n"
     ]
    },
    {
     "data": {
      "text/plain": [
       "id                       0\n",
       "user_id            1125720\n",
       "sequence_number          0\n",
       "session_id               0\n",
       "created_at               0\n",
       "ip_address               0\n",
       "city                 24342\n",
       "state                    0\n",
       "postal_code              0\n",
       "browser                  0\n",
       "traffic_source           0\n",
       "uri                      0\n",
       "event_type               0\n",
       "dtype: int64"
      ]
     },
     "execution_count": 12,
     "metadata": {},
     "output_type": "execute_result"
    }
   ],
   "source": [
    "import pandas as pd\n",
    "\n",
    "events_data = pd.read_csv('events.csv')\n",
    "\n",
    "valori_nan = events_data.isnull().values.any()\n",
    "\n",
    "if valori_nan:\n",
    "    print(\"Il DataFrame contiene valori NaN.\")\n",
    "else:\n",
    "    print(\"Il DataFrame non contiene valori NaN.\")\n",
    "events_data.isnull().sum()"
   ]
  },
  {
   "cell_type": "code",
   "execution_count": 13,
   "metadata": {},
   "outputs": [
    {
     "name": "stdout",
     "output_type": "stream",
     "text": [
      "Il DataFrame contiene valori NaN.\n"
     ]
    },
    {
     "data": {
      "text/plain": [
       "id                 0\n",
       "user_id            0\n",
       "sequence_number    0\n",
       "session_id         0\n",
       "created_at         0\n",
       "ip_address         0\n",
       "city               0\n",
       "state              0\n",
       "postal_code        0\n",
       "browser            0\n",
       "traffic_source     0\n",
       "uri                0\n",
       "event_type         0\n",
       "dtype: int64"
      ]
     },
     "execution_count": 13,
     "metadata": {},
     "output_type": "execute_result"
    }
   ],
   "source": [
    "valori_nan = events_data.isnull().values.any()\n",
    "\n",
    "events_data.fillna(0, inplace=True)\n",
    "\n",
    "if valori_nan:\n",
    "    print(\"Il DataFrame contiene valori NaN.\")\n",
    "else:\n",
    "    print(\"Il DataFrame non contiene valori NaN.\")\n",
    "events_data.isnull().sum()"
   ]
  },
  {
   "cell_type": "code",
   "execution_count": 14,
   "metadata": {},
   "outputs": [
    {
     "name": "stdout",
     "output_type": "stream",
     "text": [
      "Nessuna riga duplicata nel DataFrame.\n",
      "\n",
      "Nessuna riga con valori mancanti nel DataFrame.\n"
     ]
    }
   ],
   "source": [
    "# Verifica la presenza di righe duplicate\n",
    "duplicati = events_data[events_data.duplicated()]\n",
    "if not duplicati.empty:\n",
    "    print(\"Sono presenti righe duplicate nel DataFrame:\")\n",
    "    print(duplicati)\n",
    "else:\n",
    "    print(\"Nessuna riga duplicata nel DataFrame.\")\n",
    "\n",
    "# Verifica la presenza di righe vuote (NaN)\n",
    "righe_vuote = events_data[events_data.isnull().any(axis=1)]\n",
    "if not righe_vuote.empty:\n",
    "    print(\"\\nSono presenti righe con valori mancanti nel DataFrame:\")\n",
    "    print(righe_vuote)\n",
    "else:\n",
    "    print(\"\\nNessuna riga con valori mancanti nel DataFrame.\")"
   ]
  },
  {
   "cell_type": "markdown",
   "metadata": {},
   "source": [
    "### Pulizia di inventory_items.csv"
   ]
  },
  {
   "cell_type": "code",
   "execution_count": 15,
   "metadata": {},
   "outputs": [
    {
     "name": "stdout",
     "output_type": "stream",
     "text": [
      "Il DataFrame contiene valori NaN.\n"
     ]
    },
    {
     "data": {
      "text/plain": [
       "id                                     0\n",
       "product_id                             0\n",
       "created_at                             0\n",
       "sold_at                           308614\n",
       "cost                                   0\n",
       "product_category                       0\n",
       "product_name                          22\n",
       "product_brand                        439\n",
       "product_retail_price                   0\n",
       "product_department                     0\n",
       "product_sku                            0\n",
       "product_distribution_center_id         0\n",
       "dtype: int64"
      ]
     },
     "execution_count": 15,
     "metadata": {},
     "output_type": "execute_result"
    }
   ],
   "source": [
    "import pandas as pd\n",
    "\n",
    "inventory_items = pd.read_csv('inventory_items.csv')\n",
    "\n",
    "valori_nan = inventory_items.isnull().values.any()\n",
    "\n",
    "if valori_nan:\n",
    "    print(\"Il DataFrame contiene valori NaN.\")\n",
    "else:\n",
    "    print(\"Il DataFrame non contiene valori NaN.\")\n",
    "inventory_items.isnull().sum()"
   ]
  },
  {
   "cell_type": "code",
   "execution_count": 16,
   "metadata": {},
   "outputs": [
    {
     "name": "stdout",
     "output_type": "stream",
     "text": [
      "Il DataFrame contiene valori NaN.\n"
     ]
    },
    {
     "data": {
      "text/plain": [
       "id                                0\n",
       "product_id                        0\n",
       "created_at                        0\n",
       "sold_at                           0\n",
       "cost                              0\n",
       "product_category                  0\n",
       "product_name                      0\n",
       "product_brand                     0\n",
       "product_retail_price              0\n",
       "product_department                0\n",
       "product_sku                       0\n",
       "product_distribution_center_id    0\n",
       "dtype: int64"
      ]
     },
     "execution_count": 16,
     "metadata": {},
     "output_type": "execute_result"
    }
   ],
   "source": [
    "valori_nan = inventory_items.isnull().values.any()\n",
    "\n",
    "inventory_items.fillna(0, inplace=True)\n",
    "\n",
    "if valori_nan:\n",
    "    print(\"Il DataFrame contiene valori NaN.\")\n",
    "else:\n",
    "    print(\"Il DataFrame non contiene valori NaN.\")\n",
    "inventory_items.isnull().sum()"
   ]
  },
  {
   "cell_type": "code",
   "execution_count": 17,
   "metadata": {},
   "outputs": [
    {
     "name": "stdout",
     "output_type": "stream",
     "text": [
      "Nessuna riga duplicata nel DataFrame.\n",
      "\n",
      "Nessuna riga con valori mancanti nel DataFrame.\n"
     ]
    }
   ],
   "source": [
    "# Verifica la presenza di righe duplicate\n",
    "duplicati = inventory_items[inventory_items.duplicated()]\n",
    "if not duplicati.empty:\n",
    "    print(\"Sono presenti righe duplicate nel DataFrame:\")\n",
    "    print(duplicati)\n",
    "else:\n",
    "    print(\"Nessuna riga duplicata nel DataFrame.\")\n",
    "\n",
    "# Verifica la presenza di righe vuote (NaN)\n",
    "righe_vuote = inventory_items[inventory_items.isnull().any(axis=1)]\n",
    "if not righe_vuote.empty:\n",
    "    print(\"\\nSono presenti righe con valori mancanti nel DataFrame:\")\n",
    "    print(righe_vuote)\n",
    "else:\n",
    "    print(\"\\nNessuna riga con valori mancanti nel DataFrame.\")"
   ]
  },
  {
   "cell_type": "markdown",
   "metadata": {},
   "source": [
    "### Pulizia di order_items.csv"
   ]
  },
  {
   "cell_type": "code",
   "execution_count": 18,
   "metadata": {},
   "outputs": [
    {
     "name": "stdout",
     "output_type": "stream",
     "text": [
      "Il DataFrame contiene valori NaN.\n"
     ]
    },
    {
     "data": {
      "text/plain": [
       "id                        0\n",
       "order_id                  0\n",
       "user_id                   0\n",
       "product_id                0\n",
       "inventory_item_id         0\n",
       "status                    0\n",
       "created_at                0\n",
       "shipped_at            63485\n",
       "delivered_at         117861\n",
       "returned_at          163280\n",
       "sale_price                0\n",
       "dtype: int64"
      ]
     },
     "execution_count": 18,
     "metadata": {},
     "output_type": "execute_result"
    }
   ],
   "source": [
    "import pandas as pd\n",
    "\n",
    "order_items = pd.read_csv('order_items.csv')\n",
    "\n",
    "valori_nan = order_items.isnull().values.any()\n",
    "\n",
    "if valori_nan:\n",
    "    print(\"Il DataFrame contiene valori NaN.\")\n",
    "else:\n",
    "    print(\"Il DataFrame non contiene valori NaN.\")\n",
    "order_items.isnull().sum()"
   ]
  },
  {
   "cell_type": "code",
   "execution_count": 19,
   "metadata": {},
   "outputs": [
    {
     "name": "stdout",
     "output_type": "stream",
     "text": [
      "Il DataFrame contiene valori NaN.\n"
     ]
    },
    {
     "data": {
      "text/plain": [
       "id                   0\n",
       "order_id             0\n",
       "user_id              0\n",
       "product_id           0\n",
       "inventory_item_id    0\n",
       "status               0\n",
       "created_at           0\n",
       "shipped_at           0\n",
       "delivered_at         0\n",
       "returned_at          0\n",
       "sale_price           0\n",
       "dtype: int64"
      ]
     },
     "execution_count": 19,
     "metadata": {},
     "output_type": "execute_result"
    }
   ],
   "source": [
    "valori_nan = order_items.isnull().values.any()\n",
    "\n",
    "order_items.fillna(0, inplace=True)\n",
    "\n",
    "if valori_nan:\n",
    "    print(\"Il DataFrame contiene valori NaN.\")\n",
    "else:\n",
    "    print(\"Il DataFrame non contiene valori NaN.\")\n",
    "order_items.isnull().sum()"
   ]
  },
  {
   "cell_type": "code",
   "execution_count": 20,
   "metadata": {},
   "outputs": [
    {
     "name": "stdout",
     "output_type": "stream",
     "text": [
      "Nessuna riga duplicata nel DataFrame.\n",
      "\n",
      "Nessuna riga con valori mancanti nel DataFrame.\n"
     ]
    }
   ],
   "source": [
    "# Verifica la presenza di righe duplicate\n",
    "duplicati = order_items[order_items.duplicated()]\n",
    "if not duplicati.empty:\n",
    "    print(\"Sono presenti righe duplicate nel DataFrame:\")\n",
    "    print(duplicati)\n",
    "else:\n",
    "    print(\"Nessuna riga duplicata nel DataFrame.\")\n",
    "\n",
    "# Verifica la presenza di righe vuote (NaN)\n",
    "righe_vuote = order_items[order_items.isnull().any(axis=1)]\n",
    "if not righe_vuote.empty:\n",
    "    print(\"\\nSono presenti righe con valori mancanti nel DataFrame:\")\n",
    "    print(righe_vuote)\n",
    "else:\n",
    "    print(\"\\nNessuna riga con valori mancanti nel DataFrame.\")"
   ]
  },
  {
   "cell_type": "markdown",
   "metadata": {},
   "source": [
    "### Pulizia di orders.csv"
   ]
  },
  {
   "cell_type": "code",
   "execution_count": 21,
   "metadata": {},
   "outputs": [
    {
     "name": "stdout",
     "output_type": "stream",
     "text": [
      "Il DataFrame contiene valori NaN.\n"
     ]
    },
    {
     "data": {
      "text/plain": [
       "order_id             0\n",
       "user_id              0\n",
       "status               0\n",
       "gender               0\n",
       "created_at           0\n",
       "returned_at     112693\n",
       "shipped_at       43846\n",
       "delivered_at     81372\n",
       "num_of_item          0\n",
       "dtype: int64"
      ]
     },
     "execution_count": 21,
     "metadata": {},
     "output_type": "execute_result"
    }
   ],
   "source": [
    "import pandas as pd\n",
    "\n",
    "orders_data = pd.read_csv('orders.csv')\n",
    "\n",
    "valori_nan = orders_data.isnull().values.any()\n",
    "\n",
    "if valori_nan:\n",
    "    print(\"Il DataFrame contiene valori NaN.\")\n",
    "else:\n",
    "    print(\"Il DataFrame non contiene valori NaN.\")\n",
    "orders_data.isnull().sum()"
   ]
  },
  {
   "cell_type": "code",
   "execution_count": 22,
   "metadata": {},
   "outputs": [
    {
     "name": "stdout",
     "output_type": "stream",
     "text": [
      "Il DataFrame contiene valori NaN.\n"
     ]
    },
    {
     "data": {
      "text/plain": [
       "order_id        0\n",
       "user_id         0\n",
       "status          0\n",
       "gender          0\n",
       "created_at      0\n",
       "returned_at     0\n",
       "shipped_at      0\n",
       "delivered_at    0\n",
       "num_of_item     0\n",
       "dtype: int64"
      ]
     },
     "execution_count": 22,
     "metadata": {},
     "output_type": "execute_result"
    }
   ],
   "source": [
    "valori_nan = orders_data.isnull().values.any()\n",
    "\n",
    "orders_data.fillna(0, inplace=True)\n",
    "\n",
    "if valori_nan:\n",
    "    print(\"Il DataFrame contiene valori NaN.\")\n",
    "else:\n",
    "    print(\"Il DataFrame non contiene valori NaN.\")\n",
    "orders_data.isnull().sum()"
   ]
  },
  {
   "cell_type": "code",
   "execution_count": 23,
   "metadata": {},
   "outputs": [
    {
     "name": "stdout",
     "output_type": "stream",
     "text": [
      "Nessuna riga duplicata nel DataFrame.\n",
      "\n",
      "Nessuna riga con valori mancanti nel DataFrame.\n"
     ]
    }
   ],
   "source": [
    "# Verifica la presenza di righe duplicate\n",
    "duplicati = orders_data[orders_data.duplicated()]\n",
    "if not duplicati.empty:\n",
    "    print(\"Sono presenti righe duplicate nel DataFrame:\")\n",
    "    print(duplicati)\n",
    "else:\n",
    "    print(\"Nessuna riga duplicata nel DataFrame.\")\n",
    "\n",
    "# Verifica la presenza di righe vuote (NaN)\n",
    "righe_vuote = orders_data[orders_data.isnull().any(axis=1)]\n",
    "if not righe_vuote.empty:\n",
    "    print(\"\\nSono presenti righe con valori mancanti nel DataFrame:\")\n",
    "    print(righe_vuote)\n",
    "else:\n",
    "    print(\"\\nNessuna riga con valori mancanti nel DataFrame.\")"
   ]
  },
  {
   "cell_type": "code",
   "execution_count": 24,
   "metadata": {},
   "outputs": [
    {
     "data": {
      "text/html": [
       "<div>\n",
       "<style scoped>\n",
       "    .dataframe tbody tr th:only-of-type {\n",
       "        vertical-align: middle;\n",
       "    }\n",
       "\n",
       "    .dataframe tbody tr th {\n",
       "        vertical-align: top;\n",
       "    }\n",
       "\n",
       "    .dataframe thead th {\n",
       "        text-align: right;\n",
       "    }\n",
       "</style>\n",
       "<table border=\"1\" class=\"dataframe\">\n",
       "  <thead>\n",
       "    <tr style=\"text-align: right;\">\n",
       "      <th></th>\n",
       "      <th>order_id</th>\n",
       "      <th>user_id</th>\n",
       "      <th>status</th>\n",
       "      <th>gender</th>\n",
       "      <th>created_at</th>\n",
       "      <th>returned_at</th>\n",
       "      <th>shipped_at</th>\n",
       "      <th>delivered_at</th>\n",
       "      <th>num_of_item</th>\n",
       "    </tr>\n",
       "  </thead>\n",
       "  <tbody>\n",
       "    <tr>\n",
       "      <th>0</th>\n",
       "      <td>6</td>\n",
       "      <td>4</td>\n",
       "      <td>Shipped</td>\n",
       "      <td>F</td>\n",
       "      <td>2023-08-15 09:49:00 UTC</td>\n",
       "      <td>0</td>\n",
       "      <td>2023-08-18 05:04:00 UTC</td>\n",
       "      <td>0</td>\n",
       "      <td>2</td>\n",
       "    </tr>\n",
       "    <tr>\n",
       "      <th>1</th>\n",
       "      <td>17</td>\n",
       "      <td>16</td>\n",
       "      <td>Shipped</td>\n",
       "      <td>F</td>\n",
       "      <td>2023-08-26 03:42:00 UTC</td>\n",
       "      <td>0</td>\n",
       "      <td>2023-08-27 11:01:00 UTC</td>\n",
       "      <td>0</td>\n",
       "      <td>2</td>\n",
       "    </tr>\n",
       "    <tr>\n",
       "      <th>2</th>\n",
       "      <td>23</td>\n",
       "      <td>20</td>\n",
       "      <td>Shipped</td>\n",
       "      <td>F</td>\n",
       "      <td>2022-12-21 17:12:00 UTC</td>\n",
       "      <td>0</td>\n",
       "      <td>2022-12-24 14:32:00 UTC</td>\n",
       "      <td>0</td>\n",
       "      <td>1</td>\n",
       "    </tr>\n",
       "    <tr>\n",
       "      <th>3</th>\n",
       "      <td>29</td>\n",
       "      <td>24</td>\n",
       "      <td>Shipped</td>\n",
       "      <td>F</td>\n",
       "      <td>2022-03-10 12:35:00 UTC</td>\n",
       "      <td>0</td>\n",
       "      <td>2022-03-13 02:49:00 UTC</td>\n",
       "      <td>0</td>\n",
       "      <td>1</td>\n",
       "    </tr>\n",
       "    <tr>\n",
       "      <th>4</th>\n",
       "      <td>30</td>\n",
       "      <td>24</td>\n",
       "      <td>Shipped</td>\n",
       "      <td>F</td>\n",
       "      <td>2023-07-29 12:35:00 UTC</td>\n",
       "      <td>0</td>\n",
       "      <td>2023-07-29 22:03:00 UTC</td>\n",
       "      <td>0</td>\n",
       "      <td>1</td>\n",
       "    </tr>\n",
       "    <tr>\n",
       "      <th>...</th>\n",
       "      <td>...</td>\n",
       "      <td>...</td>\n",
       "      <td>...</td>\n",
       "      <td>...</td>\n",
       "      <td>...</td>\n",
       "      <td>...</td>\n",
       "      <td>...</td>\n",
       "      <td>...</td>\n",
       "      <td>...</td>\n",
       "    </tr>\n",
       "    <tr>\n",
       "      <th>125298</th>\n",
       "      <td>125282</td>\n",
       "      <td>99985</td>\n",
       "      <td>Processing</td>\n",
       "      <td>M</td>\n",
       "      <td>2022-03-20 06:16:00 UTC</td>\n",
       "      <td>0</td>\n",
       "      <td>0</td>\n",
       "      <td>0</td>\n",
       "      <td>1</td>\n",
       "    </tr>\n",
       "    <tr>\n",
       "      <th>125299</th>\n",
       "      <td>125288</td>\n",
       "      <td>99989</td>\n",
       "      <td>Processing</td>\n",
       "      <td>M</td>\n",
       "      <td>2022-09-10 16:38:00 UTC</td>\n",
       "      <td>0</td>\n",
       "      <td>0</td>\n",
       "      <td>0</td>\n",
       "      <td>2</td>\n",
       "    </tr>\n",
       "    <tr>\n",
       "      <th>125300</th>\n",
       "      <td>125293</td>\n",
       "      <td>99992</td>\n",
       "      <td>Processing</td>\n",
       "      <td>M</td>\n",
       "      <td>2022-01-05 02:40:00 UTC</td>\n",
       "      <td>0</td>\n",
       "      <td>0</td>\n",
       "      <td>0</td>\n",
       "      <td>1</td>\n",
       "    </tr>\n",
       "    <tr>\n",
       "      <th>125301</th>\n",
       "      <td>125294</td>\n",
       "      <td>99992</td>\n",
       "      <td>Processing</td>\n",
       "      <td>M</td>\n",
       "      <td>2022-07-17 02:40:00 UTC</td>\n",
       "      <td>0</td>\n",
       "      <td>0</td>\n",
       "      <td>0</td>\n",
       "      <td>3</td>\n",
       "    </tr>\n",
       "    <tr>\n",
       "      <th>125302</th>\n",
       "      <td>125301</td>\n",
       "      <td>99998</td>\n",
       "      <td>Processing</td>\n",
       "      <td>M</td>\n",
       "      <td>2023-08-17 02:57:00 UTC</td>\n",
       "      <td>0</td>\n",
       "      <td>0</td>\n",
       "      <td>0</td>\n",
       "      <td>1</td>\n",
       "    </tr>\n",
       "  </tbody>\n",
       "</table>\n",
       "<p>125303 rows × 9 columns</p>\n",
       "</div>"
      ],
      "text/plain": [
       "        order_id  user_id      status gender               created_at  \\\n",
       "0              6        4     Shipped      F  2023-08-15 09:49:00 UTC   \n",
       "1             17       16     Shipped      F  2023-08-26 03:42:00 UTC   \n",
       "2             23       20     Shipped      F  2022-12-21 17:12:00 UTC   \n",
       "3             29       24     Shipped      F  2022-03-10 12:35:00 UTC   \n",
       "4             30       24     Shipped      F  2023-07-29 12:35:00 UTC   \n",
       "...          ...      ...         ...    ...                      ...   \n",
       "125298    125282    99985  Processing      M  2022-03-20 06:16:00 UTC   \n",
       "125299    125288    99989  Processing      M  2022-09-10 16:38:00 UTC   \n",
       "125300    125293    99992  Processing      M  2022-01-05 02:40:00 UTC   \n",
       "125301    125294    99992  Processing      M  2022-07-17 02:40:00 UTC   \n",
       "125302    125301    99998  Processing      M  2023-08-17 02:57:00 UTC   \n",
       "\n",
       "       returned_at               shipped_at delivered_at  num_of_item  \n",
       "0                0  2023-08-18 05:04:00 UTC            0            2  \n",
       "1                0  2023-08-27 11:01:00 UTC            0            2  \n",
       "2                0  2022-12-24 14:32:00 UTC            0            1  \n",
       "3                0  2022-03-13 02:49:00 UTC            0            1  \n",
       "4                0  2023-07-29 22:03:00 UTC            0            1  \n",
       "...            ...                      ...          ...          ...  \n",
       "125298           0                        0            0            1  \n",
       "125299           0                        0            0            2  \n",
       "125300           0                        0            0            1  \n",
       "125301           0                        0            0            3  \n",
       "125302           0                        0            0            1  \n",
       "\n",
       "[125303 rows x 9 columns]"
      ]
     },
     "execution_count": 24,
     "metadata": {},
     "output_type": "execute_result"
    }
   ],
   "source": [
    "orders_data"
   ]
  },
  {
   "cell_type": "markdown",
   "metadata": {},
   "source": [
    "### Pulizia di products.csv"
   ]
  },
  {
   "cell_type": "code",
   "execution_count": 25,
   "metadata": {},
   "outputs": [
    {
     "name": "stdout",
     "output_type": "stream",
     "text": [
      "Il DataFrame contiene valori NaN.\n"
     ]
    },
    {
     "data": {
      "text/plain": [
       "id                         0\n",
       "cost                       0\n",
       "category                   0\n",
       "name                       2\n",
       "brand                     24\n",
       "retail_price               0\n",
       "department                 0\n",
       "sku                        0\n",
       "distribution_center_id     0\n",
       "dtype: int64"
      ]
     },
     "execution_count": 25,
     "metadata": {},
     "output_type": "execute_result"
    }
   ],
   "source": [
    "import pandas as pd\n",
    "\n",
    "products_data = pd.read_csv('products.csv')\n",
    "\n",
    "valori_nan = products_data.isnull().values.any()\n",
    "\n",
    "if valori_nan:\n",
    "    print(\"Il DataFrame contiene valori NaN.\")\n",
    "else:\n",
    "    print(\"Il DataFrame non contiene valori NaN.\")\n",
    "products_data.isnull().sum()"
   ]
  },
  {
   "cell_type": "code",
   "execution_count": 26,
   "metadata": {},
   "outputs": [
    {
     "name": "stdout",
     "output_type": "stream",
     "text": [
      "Il DataFrame contiene valori NaN.\n"
     ]
    },
    {
     "data": {
      "text/plain": [
       "id                        0\n",
       "cost                      0\n",
       "category                  0\n",
       "name                      0\n",
       "brand                     0\n",
       "retail_price              0\n",
       "department                0\n",
       "sku                       0\n",
       "distribution_center_id    0\n",
       "dtype: int64"
      ]
     },
     "execution_count": 26,
     "metadata": {},
     "output_type": "execute_result"
    }
   ],
   "source": [
    "valori_nan = products_data.isnull().values.any()\n",
    "\n",
    "products_data.fillna(0, inplace=True)\n",
    "\n",
    "if valori_nan:\n",
    "    print(\"Il DataFrame contiene valori NaN.\")\n",
    "else:\n",
    "    print(\"Il DataFrame non contiene valori NaN.\")\n",
    "products_data.isnull().sum()"
   ]
  },
  {
   "cell_type": "code",
   "execution_count": 27,
   "metadata": {},
   "outputs": [
    {
     "name": "stdout",
     "output_type": "stream",
     "text": [
      "Nessuna riga duplicata nel DataFrame.\n",
      "\n",
      "Nessuna riga con valori mancanti nel DataFrame.\n"
     ]
    }
   ],
   "source": [
    "# Verifica la presenza di righe duplicate\n",
    "duplicati = products_data[products_data.duplicated()]\n",
    "if not duplicati.empty:\n",
    "    print(\"Sono presenti righe duplicate nel DataFrame:\")\n",
    "    print(duplicati)\n",
    "else:\n",
    "    print(\"Nessuna riga duplicata nel DataFrame.\")\n",
    "\n",
    "# Verifica la presenza di righe vuote (NaN)\n",
    "righe_vuote = products_data[products_data.isnull().any(axis=1)]\n",
    "if not righe_vuote.empty:\n",
    "    print(\"\\nSono presenti righe con valori mancanti nel DataFrame:\")\n",
    "    print(righe_vuote)\n",
    "else:\n",
    "    print(\"\\nNessuna riga con valori mancanti nel DataFrame.\")"
   ]
  },
  {
   "cell_type": "markdown",
   "metadata": {},
   "source": [
    "### Pulizia di users.csv"
   ]
  },
  {
   "cell_type": "code",
   "execution_count": 28,
   "metadata": {},
   "outputs": [
    {
     "name": "stdout",
     "output_type": "stream",
     "text": [
      "Il DataFrame contiene valori NaN.\n"
     ]
    },
    {
     "data": {
      "text/plain": [
       "id                  0\n",
       "first_name          0\n",
       "last_name           0\n",
       "email               0\n",
       "age                 0\n",
       "gender              0\n",
       "state               0\n",
       "street_address      0\n",
       "postal_code         0\n",
       "city              985\n",
       "country             0\n",
       "latitude            0\n",
       "longitude           0\n",
       "traffic_source      0\n",
       "created_at          0\n",
       "dtype: int64"
      ]
     },
     "execution_count": 28,
     "metadata": {},
     "output_type": "execute_result"
    }
   ],
   "source": [
    "import pandas as pd\n",
    "\n",
    "users_data = pd.read_csv('users.csv')\n",
    "\n",
    "valori_nan = users_data.isnull().values.any()\n",
    "\n",
    "if valori_nan:\n",
    "    print(\"Il DataFrame contiene valori NaN.\")\n",
    "else:\n",
    "    print(\"Il DataFrame non contiene valori NaN.\")\n",
    "users_data.isnull().sum()"
   ]
  },
  {
   "cell_type": "code",
   "execution_count": 29,
   "metadata": {},
   "outputs": [
    {
     "name": "stdout",
     "output_type": "stream",
     "text": [
      "Il DataFrame contiene valori NaN.\n"
     ]
    },
    {
     "data": {
      "text/plain": [
       "id                0\n",
       "first_name        0\n",
       "last_name         0\n",
       "email             0\n",
       "age               0\n",
       "gender            0\n",
       "state             0\n",
       "street_address    0\n",
       "postal_code       0\n",
       "city              0\n",
       "country           0\n",
       "latitude          0\n",
       "longitude         0\n",
       "traffic_source    0\n",
       "created_at        0\n",
       "dtype: int64"
      ]
     },
     "execution_count": 29,
     "metadata": {},
     "output_type": "execute_result"
    }
   ],
   "source": [
    "valori_nan = users_data.isnull().values.any()\n",
    "\n",
    "users_data.fillna(0, inplace=True)\n",
    "\n",
    "if valori_nan:\n",
    "    print(\"Il DataFrame contiene valori NaN.\")\n",
    "else:\n",
    "    print(\"Il DataFrame non contiene valori NaN.\")\n",
    "users_data.isnull().sum()"
   ]
  },
  {
   "cell_type": "code",
   "execution_count": 30,
   "metadata": {},
   "outputs": [
    {
     "name": "stdout",
     "output_type": "stream",
     "text": [
      "Nessuna riga duplicata nel DataFrame.\n",
      "\n",
      "Nessuna riga con valori mancanti nel DataFrame.\n"
     ]
    }
   ],
   "source": [
    "# Verifica la presenza di righe duplicate\n",
    "duplicati = users_data[users_data.duplicated()]\n",
    "if not duplicati.empty:\n",
    "    print(\"Sono presenti righe duplicate nel DataFrame:\")\n",
    "    print(duplicati)\n",
    "else:\n",
    "    print(\"Nessuna riga duplicata nel DataFrame.\")\n",
    "\n",
    "# Verifica la presenza di righe vuote (NaN)\n",
    "righe_vuote = users_data[users_data.isnull().any(axis=1)]\n",
    "if not righe_vuote.empty:\n",
    "    print(\"\\nSono presenti righe con valori mancanti nel DataFrame:\")\n",
    "    print(righe_vuote)\n",
    "else:\n",
    "    print(\"\\nNessuna riga con valori mancanti nel DataFrame.\")"
   ]
  },
  {
   "cell_type": "markdown",
   "metadata": {},
   "source": [
    "## Analisi dei dati\n",
    "Con il primo script analizziamo, nel complesso, quali sono le pagine più visitate del sito, secondo il df \"events_data\", realizzando un istogramma e un diagramma a torta."
   ]
  },
  {
   "cell_type": "code",
   "execution_count": 31,
   "metadata": {},
   "outputs": [
    {
     "data": {
      "image/png": "[encoded data removed]",
      "text/plain": [
       "<Figure size 1000x600 with 1 Axes>"
      ]
     },
     "metadata": {},
     "output_type": "display_data"
    },
    {
     "data": {
      "image/png": "[encoded data removed]",
      "text/plain": [
       "<Figure size 800x800 with 1 Axes>"
      ]
     },
     "metadata": {},
     "output_type": "display_data"
    }
   ],
   "source": [
    "import pandas as pd\n",
    "import matplotlib.pyplot as plt\n",
    "\n",
    "# Analizza i dati per trovare le parti più visitate del sito\n",
    "most_visited_pages = events_data['uri'].value_counts().head(10)\n",
    "\n",
    "# Crea un grafico a barre per visualizzare le pagine più visitate\n",
    "plt.figure(figsize=(10, 6))\n",
    "most_visited_pages.plot(kind='bar', title='Pagine più visitate')\n",
    "plt.xlabel('URI della Pagina')\n",
    "plt.ylabel('Numero di visite')\n",
    "plt.xticks(rotation=90)\n",
    "plt.show()\n",
    "\n",
    "# Analizza i dati per trovare la fonte del traffico\n",
    "traffic_sources = events_data['traffic_source'].value_counts()\n",
    "\n",
    "# Crea un grafico a torta per visualizzare le fonti di traffico\n",
    "plt.figure(figsize=(8, 8))\n",
    "traffic_sources.plot(kind='pie', autopct='%1.1f%%', startangle=90, title='Fonti di traffico')\n",
    "plt.ylabel('')\n",
    "plt.show()\n"
   ]
  },
  {
   "cell_type": "markdown",
   "metadata": {},
   "source": [
    "Con il seguente script analizziamo quali sono le pagine più visitate del sito secondo il df \"events_data\" escludendo ['/cart', '/purchase', '/cancel', '/home']"
   ]
  },
  {
   "cell_type": "code",
   "execution_count": 32,
   "metadata": {},
   "outputs": [
    {
     "data": {
      "image/png": "[encoded data removed]",
      "text/plain": [
       "<Figure size 1000x600 with 1 Axes>"
      ]
     },
     "metadata": {},
     "output_type": "display_data"
    }
   ],
   "source": [
    "import pandas as pd\n",
    "import matplotlib.pyplot as plt\n",
    "\n",
    "# Escludi le pagine specifiche dall'analisi\n",
    "excluded_pages = ['/cart', '/purchase', '/cancel', '/home']\n",
    "filtered_data = events_data[~events_data['uri'].isin(excluded_pages)]\n",
    "\n",
    "# Analizza i dati per trovare le parti più visitate del sito (dopo l'esclusione)\n",
    "most_visited_pages = filtered_data['uri'].value_counts().head(10)\n",
    "\n",
    "# Ordina il DataFrame in base ai valori in ordine decrescente\n",
    "most_visited_pages = most_visited_pages.sort_values(ascending=False)\n",
    "\n",
    "# Crea un grafico a barre per visualizzare le pagine più visitate dopo l'esclusione\n",
    "plt.figure(figsize=(10, 6))\n",
    "bars = most_visited_pages.plot(kind='bar', title='Pagine più visitate (escludendo /cart, /purchase, /cancel e /home)')\n",
    "plt.xlabel('URI della Pagina')\n",
    "plt.ylabel('Numero di visite')\n",
    "plt.xticks(rotation=90)\n",
    "\n",
    "# Aggiungi l'etichetta del dato\n",
    "for i, v in enumerate(most_visited_pages):\n",
    "    plt.annotate(str(v), (i, v), ha='center', va='bottom')\n",
    "plt.show()\n"
   ]
  },
  {
   "cell_type": "markdown",
   "metadata": {},
   "source": [
    "Da questa prima analisi possiamo evidenziare che la pagina più visitata del sito è il carrello (motivo per cui bisognerebbe puntare ad una campagna di marketing mirata sul cliente che, nel momento del check-out, potrà scegliere di acquistare altri prodotti tra quelli suggeriti). \n",
    "\n",
    "Escludendo le pagine di default come /cart /home /purchase /cancel si può notare che il prodotto più ricercato sul sito è \"motherhoodmaternity\"\n",
    "\n",
    "Un ulteriore punto di interesse sono le fonti di traffico. Email: 50% Adwords: 29.9% Facebook: 10.1% YouTube: 10.0%  Organic: 5.0%"
   ]
  },
  {
   "cell_type": "markdown",
   "metadata": {},
   "source": [
    "### Realizzazione di una mappa interattiva in Html per capire le fonti di traffico in termini locali."
   ]
  },
  {
   "cell_type": "code",
   "execution_count": 33,
   "metadata": {},
   "outputs": [],
   "source": [
    "import pandas as pd\n",
    "import folium\n",
    "from folium.plugins import HeatMap\n",
    "\n",
    "# Carica i dati dalla tabella degli utenti\n",
    "users_data = pd.read_csv('users.csv')\n",
    "\n",
    "# Carica i dati dei centri di distribuzione\n",
    "distribution_centers = pd.read_csv('distribution_centers.csv')\n",
    "\n",
    "# Crea una mappa\n",
    "mappa = folium.Map(zoom_start=5)\n",
    "\n",
    "# Crea una lista di tuple contenenti le coordinate dei clienti\n",
    "coordinate_clienti = list(zip(users_data['latitude'], users_data['longitude']))\n",
    "\n",
    "# Aggiungi una mappa termica (heatmap) basata sulle coordinate dei clienti\n",
    "HeatMap(coordinate_clienti).add_to(mappa)\n",
    "\n",
    "# Aggiungi marcatori per i centri di distribuzione sulla mappa\n",
    "for _, centro in distribution_centers.iterrows():\n",
    "    folium.Marker([centro['latitude'], centro['longitude']], tooltip=centro['name']).add_to(mappa)\n",
    "\n",
    "# Salva la mappa interattiva in un file html\n",
    "mappa.save('mappa_provenienza_clienti.html')\n"
   ]
  },
  {
   "cell_type": "markdown",
   "metadata": {},
   "source": [
    "### Realizzazione di uno script capace di quantificare il numero di vendite nell'arco di un anno definito.\n"
   ]
  },
  {
   "cell_type": "markdown",
   "metadata": {},
   "source": [
    "Per rispondere a quesito abbiamo deciso di utilizzare i dati grezzi presenti in orders.csv. In questo caso alcune delle righe presenti nella colonna returned_at potranno risultare vuote. Tale situazione è stata considerata come un ordine creato ed evaso.\n",
    "\n",
    "Gli ordini non evasi non sono considerati."
   ]
  },
  {
   "cell_type": "code",
   "execution_count": 34,
   "metadata": {},
   "outputs": [
    {
     "name": "stdout",
     "output_type": "stream",
     "text": [
      "L'anno 2023 ha 46482 ordini effettuati (escludendo quelli con un valore in 'returned_at').\n"
     ]
    }
   ],
   "source": [
    "import pandas as pd\n",
    "\n",
    "# Carica il tuo file CSV\n",
    "df = pd.read_csv('orders.csv')\n",
    "\n",
    "# Rimuovi le righe in cui 'returned_at' non è vuoto\n",
    "df = df[df['returned_at'].isna()]\n",
    "\n",
    "# Converte la colonna 'created_at' in datetime\n",
    "df['created_at'] = pd.to_datetime(df['created_at'], errors='coerce')\n",
    "\n",
    "# Definisci l'anno desiderato\n",
    "anno_desiderato = 2023\n",
    "\n",
    "# Filtra il DataFrame per l'anno desiderato\n",
    "df_filtrato = df[df['created_at'].dt.year == anno_desiderato]\n",
    "\n",
    "# Conta il numero di righe nel DataFrame filtrato\n",
    "conteggio_anno_desiderato = len(df_filtrato)\n",
    "\n",
    "print(f\"L'anno {anno_desiderato} ha {conteggio_anno_desiderato} ordini effettuati (escludendo quelli con un valore in 'returned_at').\")"
   ]
  },
  {
   "cell_type": "code",
   "execution_count": 35,
   "metadata": {},
   "outputs": [
    {
     "name": "stdout",
     "output_type": "stream",
     "text": [
      "L'anno 2022 ha 33160 ordini effettuati (escludendo quelli con un valore in 'returned_at').\n"
     ]
    }
   ],
   "source": [
    "import pandas as pd\n",
    "\n",
    "# Carica il tuo file CSV\n",
    "df1 = pd.read_csv('orders.csv')\n",
    "\n",
    "# Rimuovi le righe in cui 'returned_at' non è vuoto\n",
    "df1 = df1[df1['returned_at'].isna()]\n",
    "\n",
    "# Converte la colonna 'created_at' in datetime\n",
    "df1['created_at'] = pd.to_datetime(df1['created_at'], errors='coerce')\n",
    "\n",
    "# Definisci l'anno desiderato\n",
    "anno_desiderato = 2022\n",
    "\n",
    "# Filtra il DataFrame per l'anno desiderato\n",
    "df1_filtrato = df1[df1['created_at'].dt.year == anno_desiderato]\n",
    "\n",
    "# Conta il numero di righe nel DataFrame filtrato\n",
    "conteggio_anno_desiderato = len(df1_filtrato)\n",
    "\n",
    "print(f\"L'anno {anno_desiderato} ha {conteggio_anno_desiderato} ordini effettuati (escludendo quelli con un valore in 'returned_at').\")"
   ]
  },
  {
   "cell_type": "code",
   "execution_count": 36,
   "metadata": {},
   "outputs": [
    {
     "name": "stdout",
     "output_type": "stream",
     "text": [
      "L'anno 2021 ha 18346 ordini effettuati (escludendo quelli con un valore in 'returned_at').\n"
     ]
    }
   ],
   "source": [
    "import pandas as pd\n",
    "\n",
    "# Carica il tuo file CSV\n",
    "df3 = pd.read_csv('orders.csv')\n",
    "\n",
    "# Rimuovi le righe in cui 'returned_at' non è vuoto\n",
    "df3 = df3[df3['returned_at'].isna()]\n",
    "\n",
    "# Converte la colonna 'created_at' in datetime\n",
    "df3['created_at'] = pd.to_datetime(df3['created_at'], errors='coerce')\n",
    "\n",
    "# Definisci l'anno desiderato\n",
    "anno_desiderato = 2021\n",
    "\n",
    "# Filtra il DataFrame per l'anno desiderato\n",
    "df3_filtrato = df3[df3['created_at'].dt.year == anno_desiderato]\n",
    "\n",
    "# Conta il numero di righe nel DataFrame filtrato\n",
    "conteggio_anno_desiderato = len(df3_filtrato)\n",
    "\n",
    "print(f\"L'anno {anno_desiderato} ha {conteggio_anno_desiderato} ordini effettuati (escludendo quelli con un valore in 'returned_at').\")"
   ]
  },
  {
   "cell_type": "code",
   "execution_count": 37,
   "metadata": {},
   "outputs": [
    {
     "name": "stdout",
     "output_type": "stream",
     "text": [
      "L'anno 2020 ha 9240 ordini effettuati (escludendo quelli con un valore in 'returned_at').\n"
     ]
    }
   ],
   "source": [
    "import pandas as pd\n",
    "\n",
    "# Carica il tuo file CSV\n",
    "df4 = pd.read_csv('orders.csv')\n",
    "\n",
    "# Rimuovi le righe in cui 'returned_at' non è vuoto\n",
    "df4 = df4[df4['returned_at'].isna()]\n",
    "\n",
    "# Converte la colonna 'created_at' in datetime\n",
    "df4['created_at'] = pd.to_datetime(df4['created_at'], errors='coerce')\n",
    "\n",
    "# Definisci l'anno desiderato\n",
    "anno_desiderato = 2020\n",
    "\n",
    "# Filtra il DataFrame per l'anno desiderato\n",
    "df4_filtrato = df4[df4['created_at'].dt.year == anno_desiderato]\n",
    "\n",
    "# Conta il numero di righe nel DataFrame filtrato\n",
    "conteggio_anno_desiderato = len(df4_filtrato)\n",
    "\n",
    "print(f\"L'anno {anno_desiderato} ha {conteggio_anno_desiderato} ordini effettuati (escludendo quelli con un valore in 'returned_at').\")"
   ]
  },
  {
   "cell_type": "markdown",
   "metadata": {},
   "source": [
    "Da questa analisi si evince che l'anno con il maggior numero di ordini evasi è il 2023."
   ]
  },
  {
   "cell_type": "markdown",
   "metadata": {},
   "source": [
    "### Realizzazione di uno script capace di quantificare i 10 prodotti più venduti in tutto l'arco temporale"
   ]
  },
  {
   "cell_type": "code",
   "execution_count": 38,
   "metadata": {},
   "outputs": [
    {
     "name": "stdout",
     "output_type": "stream",
     "text": [
      "I 10 product_name più ripetuti sono:\n",
      "product_name\n",
      "Wrangler Men's Premium Performance Cowboy Cut Jean     171\n",
      "Wrangler Men's Wrancher Dress Jean                     130\n",
      "Thorlo Unisex Experia Running Sock                     100\n",
      "Wrangler Men's Original Cowboy Cut Relaxed Fit Jean     99\n",
      "Pearl iZUMi Attack Sock 3-Pack                          99\n",
      "HUGO BOSS Men's Long Pant                               98\n",
      "Wrangler Men's Genuine Tampa Cargo Short                89\n",
      "Rusty Men's Goombah Too Boardshort                      87\n",
      "Joe's Jeans Men's Slim Fit Straight Leg Brixton         85\n",
      "George Strait by Wrangler Men's Cowboy Cut Jean         84\n",
      "Name: count, dtype: int64\n"
     ]
    }
   ],
   "source": [
    "# Conta le occorrenze di ciascun product_name\n",
    "product_counts = inventory_items['product_name'].value_counts()\n",
    "\n",
    "# Trova i 5 product_name più ripetuti\n",
    "top_10_product_names = product_counts.head(10)\n",
    "\n",
    "# Stampa i 5 product_name più ripetuti\n",
    "print(\"I 10 product_name più ripetuti sono:\")\n",
    "print(top_10_product_names)"
   ]
  },
  {
   "cell_type": "markdown",
   "metadata": {},
   "source": [
    "### Previsioni con il Machine Learning\n"
   ]
  },
  {
   "cell_type": "markdown",
   "metadata": {},
   "source": [
    "L'obiettivo di questa analisi è capire se si possono ottenere previsioni utili sulle vendite possibili nell'arco del 2024.\n",
    "\n",
    "Per addestrare il modello abbiamo deciso di realizzare un dataframe \"mhlr\" contenente i soli dati relativi al 2022."
   ]
  },
  {
   "cell_type": "code",
   "execution_count": 39,
   "metadata": {},
   "outputs": [],
   "source": [
    "mhlr = pd.read_csv(\"inventory_items.csv\")"
   ]
  },
  {
   "cell_type": "code",
   "execution_count": 40,
   "metadata": {},
   "outputs": [
    {
     "name": "stdout",
     "output_type": "stream",
     "text": [
      "Il DataFrame contiene valori NaN.\n"
     ]
    },
    {
     "data": {
      "text/plain": [
       "id                                0\n",
       "product_id                        0\n",
       "created_at                        0\n",
       "sold_at                           0\n",
       "cost                              0\n",
       "product_category                  0\n",
       "product_name                      0\n",
       "product_brand                     0\n",
       "product_retail_price              0\n",
       "product_department                0\n",
       "product_sku                       0\n",
       "product_distribution_center_id    0\n",
       "dtype: int64"
      ]
     },
     "execution_count": 40,
     "metadata": {},
     "output_type": "execute_result"
    }
   ],
   "source": [
    "valori_nan = mhlr.isnull().values.any()\n",
    "\n",
    "mhlr.fillna(0, inplace=True)\n",
    "\n",
    "if valori_nan:\n",
    "    print(\"Il DataFrame contiene valori NaN.\")\n",
    "else:\n",
    "    print(\"Il DataFrame non contiene valori NaN.\")\n",
    "mhlr.isnull().sum()"
   ]
  },
  {
   "cell_type": "code",
   "execution_count": 41,
   "metadata": {},
   "outputs": [],
   "source": [
    "mhlr['product_name'] = mhlr['product_name'].astype(str)\n",
    "mhlr['product_category'] = mhlr['product_category'].astype(str)\n",
    "mhlr['product_brand'] = mhlr['product_brand'].astype(str)\n",
    "mhlr['product_department'] = mhlr['product_department'].astype(str)\n",
    "mhlr['product_sku'] = mhlr['product_sku'].astype(str)"
   ]
  },
  {
   "cell_type": "code",
   "execution_count": 42,
   "metadata": {},
   "outputs": [],
   "source": [
    "mhlr['sales_quantity'] = mhlr['cost'] / mhlr['product_retail_price']"
   ]
  },
  {
   "cell_type": "code",
   "execution_count": 43,
   "metadata": {},
   "outputs": [
    {
     "name": "stdout",
     "output_type": "stream",
     "text": [
      "Mean Squared Error (MSE): 0.00265286355861362\n",
      "R-squared (R2): 0.48835905310893746\n"
     ]
    }
   ],
   "source": [
    "import pandas as pd\n",
    "from sklearn.model_selection import train_test_split\n",
    "from sklearn.linear_model import LinearRegression\n",
    "from sklearn.metrics import mean_squared_error, r2_score\n",
    "from sklearn.preprocessing import LabelEncoder\n",
    "from sklearn.preprocessing import StandardScaler\n",
    "\n",
    "# Codifica delle variabili categoriche\n",
    "le = LabelEncoder()\n",
    "mhlr['product_category'] = le.fit_transform(mhlr['product_category'])\n",
    "mhlr['product_name'] = le.fit_transform(mhlr['product_name'])\n",
    "mhlr['product_brand'] = le.fit_transform(mhlr['product_brand'])\n",
    "mhlr['product_department'] = le.fit_transform(mhlr['product_department'])\n",
    "mhlr['product_sku'] = le.fit_transform(mhlr['product_sku'])\n",
    "\n",
    "# Seleziona le features e il target\n",
    "X = mhlr[['product_id', 'cost', 'product_category', 'product_name', 'product_brand', 'product_retail_price', 'product_department', 'product_sku', 'product_distribution_center_id']]\n",
    "y = mhlr['sales_quantity']\n",
    "\n",
    "# Standardizzazione delle features\n",
    "scaler = StandardScaler()\n",
    "X_scaled = scaler.fit_transform(X)\n",
    "\n",
    "# Split dei dati in set di addestramento e test\n",
    "X_train, X_test, y_train, y_test = train_test_split(X_scaled, y, test_size=0.2, random_state=42)\n",
    "\n",
    "# Addestramento del modello di regressione lineare\n",
    "regression_model = LinearRegression()\n",
    "regression_model.fit(X_train, y_train)\n",
    "\n",
    "# Predizione sul set di test\n",
    "y_pred = regression_model.predict(X_test)\n",
    "\n",
    "# Valutazione del modello\n",
    "mse = mean_squared_error(y_test, y_pred)\n",
    "r2 = r2_score(y_test, y_pred)\n",
    "\n",
    "print(\"Mean Squared Error (MSE):\", mse)\n",
    "print(\"R-squared (R2):\", r2)\n"
   ]
  },
  {
   "cell_type": "markdown",
   "metadata": {},
   "source": [
    "Dopo aver allenato il modello abbiamo deciso di effettuare delle analisi su \"inventory_items140923\"\n",
    "\n",
    "Il dataframe preso in considerazione è stato relizzato estrapolando da Big Query dati inerenti agli ultimi 14 giorni."
   ]
  },
  {
   "cell_type": "code",
   "execution_count": 48,
   "metadata": {},
   "outputs": [],
   "source": [
    "inventory_items140923 = pd.read_csv(\"inventory_items140923.csv\")"
   ]
  },
  {
   "cell_type": "code",
   "execution_count": 49,
   "metadata": {},
   "outputs": [
    {
     "name": "stdout",
     "output_type": "stream",
     "text": [
      "Il DataFrame contiene valori NaN.\n"
     ]
    },
    {
     "data": {
      "text/plain": [
       "id                                0\n",
       "product_id                        0\n",
       "created_at                        0\n",
       "sold_at                           0\n",
       "cost                              0\n",
       "product_category                  0\n",
       "product_name                      0\n",
       "product_brand                     0\n",
       "product_retail_price              0\n",
       "product_department                0\n",
       "product_sku                       0\n",
       "product_distribution_center_id    0\n",
       "dtype: int64"
      ]
     },
     "execution_count": 49,
     "metadata": {},
     "output_type": "execute_result"
    }
   ],
   "source": [
    "valori_nan = inventory_items140923.isnull().values.any()\n",
    "\n",
    "inventory_items140923.fillna(0, inplace=True)\n",
    "\n",
    "if valori_nan:\n",
    "    print(\"Il DataFrame contiene valori NaN.\")\n",
    "else:\n",
    "    print(\"Il DataFrame non contiene valori NaN.\")\n",
    "inventory_items140923.isnull().sum()"
   ]
  },
  {
   "cell_type": "code",
   "execution_count": 50,
   "metadata": {},
   "outputs": [],
   "source": [
    "inventory_items140923['product_name'] = inventory_items140923['product_name'].astype(str)\n",
    "inventory_items140923['product_category'] = inventory_items140923['product_category'].astype(str)\n",
    "inventory_items140923['product_brand'] = inventory_items140923['product_brand'].astype(str)\n",
    "inventory_items140923['product_department'] = inventory_items140923['product_department'].astype(str)\n",
    "inventory_items140923['product_sku'] = inventory_items140923['product_sku'].astype(str)"
   ]
  },
  {
   "cell_type": "code",
   "execution_count": 66,
   "metadata": {},
   "outputs": [],
   "source": [
    "inventory_items140923['sales_quantity'] = inventory_items140923['cost'] / inventory_items140923['product_retail_price']"
   ]
  },
  {
   "cell_type": "code",
   "execution_count": 71,
   "metadata": {},
   "outputs": [
    {
     "ename": "ValueError",
     "evalue": "The feature names should match those that were passed during fit.\nFeature names unseen at fit time:\n- sales_quantity\nFeature names seen at fit time, yet now missing:\n- cost\n- product_brand\n- product_category\n- product_department\n- product_distribution_center_id\n- ...\n",
     "output_type": "error",
     "traceback": [
      "\u001b[0;31m---------------------------------------------------------------------------\u001b[0m",
      "\u001b[0;31mValueError\u001b[0m                                Traceback (most recent call last)",
      "\u001b[1;32m/Users/doppia/Desktop/thelook_ecommerce.data/dataAnalysis.ipynb Cella 68\u001b[0m line \u001b[0;36m5\n\u001b[1;32m      <a href='vscode-notebook-cell:/Users/doppia/Desktop/thelook_ecommerce.data/dataAnalysis.ipynb#Y120sZmlsZQ%3D%3D?line=1'>2</a>\u001b[0m inventory_items_encoded \u001b[39m=\u001b[39m pd\u001b[39m.\u001b[39mget_dummies(inventory_items140923, columns\u001b[39m=\u001b[39m[\u001b[39m'\u001b[39m\u001b[39mproduct_name\u001b[39m\u001b[39m'\u001b[39m, \u001b[39m'\u001b[39m\u001b[39mproduct_category\u001b[39m\u001b[39m'\u001b[39m, \u001b[39m'\u001b[39m\u001b[39mproduct_brand\u001b[39m\u001b[39m'\u001b[39m, \u001b[39m'\u001b[39m\u001b[39mproduct_department\u001b[39m\u001b[39m'\u001b[39m, \u001b[39m'\u001b[39m\u001b[39mproduct_sku\u001b[39m\u001b[39m'\u001b[39m])\n\u001b[1;32m      <a href='vscode-notebook-cell:/Users/doppia/Desktop/thelook_ecommerce.data/dataAnalysis.ipynb#Y120sZmlsZQ%3D%3D?line=3'>4</a>\u001b[0m \u001b[39m# Applica la standardizzazione ai dati di 'inventory_items_encoded'\u001b[39;00m\n\u001b[0;32m----> <a href='vscode-notebook-cell:/Users/doppia/Desktop/thelook_ecommerce.data/dataAnalysis.ipynb#Y120sZmlsZQ%3D%3D?line=4'>5</a>\u001b[0m inventory_items_scaled \u001b[39m=\u001b[39m scaler\u001b[39m.\u001b[39;49mtransform(inventory_items_encoded[[\u001b[39m'\u001b[39;49m\u001b[39msales_quantity\u001b[39;49m\u001b[39m'\u001b[39;49m]])\n\u001b[1;32m      <a href='vscode-notebook-cell:/Users/doppia/Desktop/thelook_ecommerce.data/dataAnalysis.ipynb#Y120sZmlsZQ%3D%3D?line=6'>7</a>\u001b[0m \u001b[39m# Effettua previsioni sulle vendite future\u001b[39;00m\n\u001b[1;32m      <a href='vscode-notebook-cell:/Users/doppia/Desktop/thelook_ecommerce.data/dataAnalysis.ipynb#Y120sZmlsZQ%3D%3D?line=7'>8</a>\u001b[0m sales_predictions \u001b[39m=\u001b[39m regression_model\u001b[39m.\u001b[39mpredict(inventory_items_scaled)\n",
      "File \u001b[0;32m/Library/Frameworks/Python.framework/Versions/3.11/lib/python3.11/site-packages/sklearn/utils/_set_output.py:140\u001b[0m, in \u001b[0;36m_wrap_method_output.<locals>.wrapped\u001b[0;34m(self, X, *args, **kwargs)\u001b[0m\n\u001b[1;32m    138\u001b[0m \u001b[39m@wraps\u001b[39m(f)\n\u001b[1;32m    139\u001b[0m \u001b[39mdef\u001b[39;00m \u001b[39mwrapped\u001b[39m(\u001b[39mself\u001b[39m, X, \u001b[39m*\u001b[39margs, \u001b[39m*\u001b[39m\u001b[39m*\u001b[39mkwargs):\n\u001b[0;32m--> 140\u001b[0m     data_to_wrap \u001b[39m=\u001b[39m f(\u001b[39mself\u001b[39;49m, X, \u001b[39m*\u001b[39;49margs, \u001b[39m*\u001b[39;49m\u001b[39m*\u001b[39;49mkwargs)\n\u001b[1;32m    141\u001b[0m     \u001b[39mif\u001b[39;00m \u001b[39misinstance\u001b[39m(data_to_wrap, \u001b[39mtuple\u001b[39m):\n\u001b[1;32m    142\u001b[0m         \u001b[39m# only wrap the first output for cross decomposition\u001b[39;00m\n\u001b[1;32m    143\u001b[0m         return_tuple \u001b[39m=\u001b[39m (\n\u001b[1;32m    144\u001b[0m             _wrap_data_with_container(method, data_to_wrap[\u001b[39m0\u001b[39m], X, \u001b[39mself\u001b[39m),\n\u001b[1;32m    145\u001b[0m             \u001b[39m*\u001b[39mdata_to_wrap[\u001b[39m1\u001b[39m:],\n\u001b[1;32m    146\u001b[0m         )\n",
      "File \u001b[0;32m/Library/Frameworks/Python.framework/Versions/3.11/lib/python3.11/site-packages/sklearn/preprocessing/_data.py:1004\u001b[0m, in \u001b[0;36mStandardScaler.transform\u001b[0;34m(self, X, copy)\u001b[0m\n\u001b[1;32m   1001\u001b[0m check_is_fitted(\u001b[39mself\u001b[39m)\n\u001b[1;32m   1003\u001b[0m copy \u001b[39m=\u001b[39m copy \u001b[39mif\u001b[39;00m copy \u001b[39mis\u001b[39;00m \u001b[39mnot\u001b[39;00m \u001b[39mNone\u001b[39;00m \u001b[39melse\u001b[39;00m \u001b[39mself\u001b[39m\u001b[39m.\u001b[39mcopy\n\u001b[0;32m-> 1004\u001b[0m X \u001b[39m=\u001b[39m \u001b[39mself\u001b[39;49m\u001b[39m.\u001b[39;49m_validate_data(\n\u001b[1;32m   1005\u001b[0m     X,\n\u001b[1;32m   1006\u001b[0m     reset\u001b[39m=\u001b[39;49m\u001b[39mFalse\u001b[39;49;00m,\n\u001b[1;32m   1007\u001b[0m     accept_sparse\u001b[39m=\u001b[39;49m\u001b[39m\"\u001b[39;49m\u001b[39mcsr\u001b[39;49m\u001b[39m\"\u001b[39;49m,\n\u001b[1;32m   1008\u001b[0m     copy\u001b[39m=\u001b[39;49mcopy,\n\u001b[1;32m   1009\u001b[0m     dtype\u001b[39m=\u001b[39;49mFLOAT_DTYPES,\n\u001b[1;32m   1010\u001b[0m     force_all_finite\u001b[39m=\u001b[39;49m\u001b[39m\"\u001b[39;49m\u001b[39mallow-nan\u001b[39;49m\u001b[39m\"\u001b[39;49m,\n\u001b[1;32m   1011\u001b[0m )\n\u001b[1;32m   1013\u001b[0m \u001b[39mif\u001b[39;00m sparse\u001b[39m.\u001b[39missparse(X):\n\u001b[1;32m   1014\u001b[0m     \u001b[39mif\u001b[39;00m \u001b[39mself\u001b[39m\u001b[39m.\u001b[39mwith_mean:\n",
      "File \u001b[0;32m/Library/Frameworks/Python.framework/Versions/3.11/lib/python3.11/site-packages/sklearn/base.py:579\u001b[0m, in \u001b[0;36mBaseEstimator._validate_data\u001b[0;34m(self, X, y, reset, validate_separately, cast_to_ndarray, **check_params)\u001b[0m\n\u001b[1;32m    508\u001b[0m \u001b[39mdef\u001b[39;00m \u001b[39m_validate_data\u001b[39m(\n\u001b[1;32m    509\u001b[0m     \u001b[39mself\u001b[39m,\n\u001b[1;32m    510\u001b[0m     X\u001b[39m=\u001b[39m\u001b[39m\"\u001b[39m\u001b[39mno_validation\u001b[39m\u001b[39m\"\u001b[39m,\n\u001b[0;32m   (...)\u001b[0m\n\u001b[1;32m    515\u001b[0m     \u001b[39m*\u001b[39m\u001b[39m*\u001b[39mcheck_params,\n\u001b[1;32m    516\u001b[0m ):\n\u001b[1;32m    517\u001b[0m \u001b[39m    \u001b[39m\u001b[39m\"\"\"Validate input data and set or check the `n_features_in_` attribute.\u001b[39;00m\n\u001b[1;32m    518\u001b[0m \n\u001b[1;32m    519\u001b[0m \u001b[39m    Parameters\u001b[39;00m\n\u001b[0;32m   (...)\u001b[0m\n\u001b[1;32m    577\u001b[0m \u001b[39m        validated.\u001b[39;00m\n\u001b[1;32m    578\u001b[0m \u001b[39m    \"\"\"\u001b[39;00m\n\u001b[0;32m--> 579\u001b[0m     \u001b[39mself\u001b[39;49m\u001b[39m.\u001b[39;49m_check_feature_names(X, reset\u001b[39m=\u001b[39;49mreset)\n\u001b[1;32m    581\u001b[0m     \u001b[39mif\u001b[39;00m y \u001b[39mis\u001b[39;00m \u001b[39mNone\u001b[39;00m \u001b[39mand\u001b[39;00m \u001b[39mself\u001b[39m\u001b[39m.\u001b[39m_get_tags()[\u001b[39m\"\u001b[39m\u001b[39mrequires_y\u001b[39m\u001b[39m\"\u001b[39m]:\n\u001b[1;32m    582\u001b[0m         \u001b[39mraise\u001b[39;00m \u001b[39mValueError\u001b[39;00m(\n\u001b[1;32m    583\u001b[0m             \u001b[39mf\u001b[39m\u001b[39m\"\u001b[39m\u001b[39mThis \u001b[39m\u001b[39m{\u001b[39;00m\u001b[39mself\u001b[39m\u001b[39m.\u001b[39m\u001b[39m__class__\u001b[39m\u001b[39m.\u001b[39m\u001b[39m__name__\u001b[39m\u001b[39m}\u001b[39;00m\u001b[39m estimator \u001b[39m\u001b[39m\"\u001b[39m\n\u001b[1;32m    584\u001b[0m             \u001b[39m\"\u001b[39m\u001b[39mrequires y to be passed, but the target y is None.\u001b[39m\u001b[39m\"\u001b[39m\n\u001b[1;32m    585\u001b[0m         )\n",
      "File \u001b[0;32m/Library/Frameworks/Python.framework/Versions/3.11/lib/python3.11/site-packages/sklearn/base.py:506\u001b[0m, in \u001b[0;36mBaseEstimator._check_feature_names\u001b[0;34m(self, X, reset)\u001b[0m\n\u001b[1;32m    501\u001b[0m \u001b[39mif\u001b[39;00m \u001b[39mnot\u001b[39;00m missing_names \u001b[39mand\u001b[39;00m \u001b[39mnot\u001b[39;00m unexpected_names:\n\u001b[1;32m    502\u001b[0m     message \u001b[39m+\u001b[39m\u001b[39m=\u001b[39m (\n\u001b[1;32m    503\u001b[0m         \u001b[39m\"\u001b[39m\u001b[39mFeature names must be in the same order as they were in fit.\u001b[39m\u001b[39m\\n\u001b[39;00m\u001b[39m\"\u001b[39m\n\u001b[1;32m    504\u001b[0m     )\n\u001b[0;32m--> 506\u001b[0m \u001b[39mraise\u001b[39;00m \u001b[39mValueError\u001b[39;00m(message)\n",
      "\u001b[0;31mValueError\u001b[0m: The feature names should match those that were passed during fit.\nFeature names unseen at fit time:\n- sales_quantity\nFeature names seen at fit time, yet now missing:\n- cost\n- product_brand\n- product_category\n- product_department\n- product_distribution_center_id\n- ...\n"
     ]
    }
   ],
   "source": [
    "# Effettua l'encoding one-hot delle colonne categoriche in 'inventory_items'\n",
    "inventory_items_encoded = pd.get_dummies(inventory_items140923, columns=['product_name', 'product_category', 'product_brand', 'product_department', 'product_sku'])\n",
    "\n",
    "# Applica la standardizzazione ai dati di 'inventory_items_encoded'\n",
    "inventory_items_scaled = scaler.transform(inventory_items_encoded[['sales_quantity']])\n",
    "\n",
    "# Effettua previsioni sulle vendite future\n",
    "sales_predictions = regression_model.predict(inventory_items_scaled)\n"
   ]
  }
 ],
 "metadata": {
  "kernelspec": {
   "display_name": "Python 3",
   "language": "python",
   "name": "python3"
  },
  "language_info": {
   "codemirror_mode": {
    "name": "ipython",
    "version": 3
   },
   "file_extension": ".py",
   "mimetype": "text/x-python",
   "name": "python",
   "nbconvert_exporter": "python",
   "pygments_lexer": "ipython3",
   "version": "3.11.1"
  },
  "orig_nbformat": 4
 },
 "nbformat": 4,
 "nbformat_minor": 2
}
